{
 "cells": [
  {
   "cell_type": "markdown",
   "id": "1a3f4c17-c044-42f6-97b1-7f1a12dd05a7",
   "metadata": {},
   "source": [
    "# Calculating and visualizing the climatology from monthly model output\n",
    "#### Important: This needs to run with the \"calc\" python environment\n",
    "- First import numpy and xarray libraries"
   ]
  },
  {
   "cell_type": "code",
   "execution_count": null,
   "id": "57604562-c535-4d01-a058-d5596c23190b",
   "metadata": {},
   "outputs": [],
   "source": [
    "import numpy as np\n",
    "import netCDF4\n",
    "import xarray as xr\n",
    "import matplotlib.pyplot as plt"
   ]
  },
  {
   "cell_type": "markdown",
   "id": "eaa74c6a-1d81-40e4-86b1-3aad0c249f6d",
   "metadata": {},
   "source": [
    "- Next, we need to read in the data. Let's pick SST (tos) from GFDL-ESM4\n",
    "- Since we can't remember the exact filename, we use \"ls\" command to find the file and save it as a text file"
   ]
  },
  {
   "cell_type": "code",
   "execution_count": null,
   "id": "370c84df-ba4c-483e-a23c-2cde1aa2eea5",
   "metadata": {},
   "outputs": [],
   "source": [
    "! ls /global/cfs/cdirs/m3920/dataset/cmip6/GFDL-ESM4/tos*_gr_*.nc > gfdltos.txt\n",
    "! cat gfdltos.txt"
   ]
  },
  {
   "cell_type": "markdown",
   "id": "de91d3e2-31dc-4731-a8a7-16e0ffa68019",
   "metadata": {},
   "source": [
    "- First read in the text file that contains the name of the file\n",
    "- Use it to drive xarray.open_dataset\n",
    "- See the graphic interface to explore metadata and attributes"
   ]
  },
  {
   "cell_type": "code",
   "execution_count": null,
   "id": "b4b4cc8c-2046-4896-aa39-0b5dc27f6eb3",
   "metadata": {},
   "outputs": [],
   "source": [
    "fid=open('gfdltos.txt','r')\n",
    "fn=fid.read().splitlines()\n",
    "ds=xr.open_dataset(fn[0])\n",
    "ds"
   ]
  },
  {
   "cell_type": "markdown",
   "id": "d6204fc6-79c3-4775-adca-a022141f24c4",
   "metadata": {},
   "source": [
    "- Calculate the monthly climatology from 1950 to 2010\n",
    "- To do so, we first select the correct time period\n",
    "- Notice that the number of time slice is reduced to 732 (= 12 x 61)\n"
   ]
  },
  {
   "cell_type": "code",
   "execution_count": null,
   "id": "9cb2dd87-04e5-48d8-97a0-d23cfbf07f24",
   "metadata": {},
   "outputs": [],
   "source": [
    "sst_select = ds.tos.sel(time=slice(\"1950-01-01\",\"2010-12-31\"))\n",
    "np.shape(sst_select)"
   ]
  },
  {
   "cell_type": "markdown",
   "id": "3270483c-8aa4-47ac-85b0-309e6b8b4354",
   "metadata": {},
   "source": [
    "- Group the data by month and take time average\n",
    "- Make sure that there will be 12 time slices as the output\n",
    "- Use %%time to measure performance"
   ]
  },
  {
   "cell_type": "code",
   "execution_count": null,
   "id": "9984def6-7a8a-40c0-abb8-e718dcc8efba",
   "metadata": {},
   "outputs": [],
   "source": [
    "%%time\n",
    "sst_monclim = sst_select.groupby('time.month').mean(dim='time')\n",
    "np.shape(sst_monclim)"
   ]
  },
  {
   "cell_type": "markdown",
   "id": "38ad88e7-66a5-46a9-b91a-93bbb31bb8d2",
   "metadata": {},
   "source": [
    "- Similarly, we can calculate seasonal climatology as follows\n",
    "- One bug is that the time axis became alphabetical, thus needs to be corrected"
   ]
  },
  {
   "cell_type": "code",
   "execution_count": null,
   "id": "02a44c83-63c1-4d72-9b8d-85f66fb612cb",
   "metadata": {},
   "outputs": [],
   "source": [
    "%%time\n",
    "sst_seaclim = sst_select.groupby('time.season').mean(dim='time')\n",
    "sst_seaclim"
   ]
  },
  {
   "cell_type": "code",
   "execution_count": null,
   "id": "14cf9367-48ab-4d52-90b9-a8011125e124",
   "metadata": {},
   "outputs": [],
   "source": [
    "sst_seaclim=sst_seaclim.reindex(season=['DJF','MAM','JJA','SON'])"
   ]
  },
  {
   "cell_type": "markdown",
   "id": "c863af4a-511a-45ff-a4d4-8050d1569313",
   "metadata": {},
   "source": [
    "- To conclude, let's plot the seasonal SST climatology\n",
    "- Explore xarray's .plot function"
   ]
  },
  {
   "cell_type": "code",
   "execution_count": null,
   "id": "1a3eeeea-0f96-4c0a-a389-4b63cbec5cbd",
   "metadata": {},
   "outputs": [],
   "source": [
    "sst_seaclim.sel(season='DJF').plot(robust=True)"
   ]
  },
  {
   "cell_type": "markdown",
   "id": "f08970bf-fe49-4a2b-b6c2-651dce70292a",
   "metadata": {},
   "source": [
    "- Faceting allows multiple panels from the 3D array"
   ]
  },
  {
   "cell_type": "code",
   "execution_count": null,
   "id": "920684a3-0b00-4ed7-b88a-ef2ce0895350",
   "metadata": {},
   "outputs": [],
   "source": [
    "sst_seaclim.plot(col=\"season\",col_wrap=2,robust=True)"
   ]
  },
  {
   "cell_type": "markdown",
   "id": "9ee495e3-dac1-4adc-8968-6c36fbc86127",
   "metadata": {},
   "source": [
    "- Subtract annual mean to show seasonal changes\n",
    "- Print a PDF file by uncommenting the last line"
   ]
  },
  {
   "cell_type": "code",
   "execution_count": null,
   "id": "84153037-cea0-4af8-85ec-2360738b5189",
   "metadata": {},
   "outputs": [],
   "source": [
    "ssta_seaclim=sst_seaclim - sst_seaclim.mean(dim='season')\n",
    "colorbar_kwargs = {\n",
    "    \"orientation\": \"vertical\",\n",
    "    \"label\": \"seasonal SST departure from annual mean\",\n",
    "    \"pad\": 0.07,}\n",
    "ssta_seaclim.plot(col=\"season\",col_wrap=2,robust=True, figsize=(7,5), cbar_kwargs=colorbar_kwargs)\n",
    "#plt.savefig('seasonal_sst.pdf',bbox_inches=\"tight\")"
   ]
  }
 ],
 "metadata": {
  "kernelspec": {
   "display_name": "Calc",
   "language": "python",
   "name": "calc"
  },
  "language_info": {
   "codemirror_mode": {
    "name": "ipython",
    "version": 3
   },
   "file_extension": ".py",
   "mimetype": "text/x-python",
   "name": "python",
   "nbconvert_exporter": "python",
   "pygments_lexer": "ipython3",
   "version": "3.8.12"
  }
 },
 "nbformat": 4,
 "nbformat_minor": 5
}
