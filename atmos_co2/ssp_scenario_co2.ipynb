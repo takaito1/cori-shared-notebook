{
 "cells": [
  {
   "cell_type": "code",
   "execution_count": 194,
   "id": "541240fc-7905-41e4-b042-91ad0cdd34c7",
   "metadata": {},
   "outputs": [],
   "source": [
    "import numpy as np\n",
    "import xarray as xr\n",
    "import netCDF4 as nc\n",
    "import matplotlib.pyplot as plt\n",
    "import pandas as pd\n",
    "import cftime"
   ]
  },
  {
   "cell_type": "code",
   "execution_count": 195,
   "id": "1818b440-9dd7-4639-bd35-ae9d5ffa28d4",
   "metadata": {},
   "outputs": [],
   "source": [
    "fn=['mole-fraction-of-carbon-dioxide-in-air_input4MIPs_GHGConcentrations_CMIP_UoM-CMIP-1-2-0_gr1-GMNHSH_0000-2014.nc',\n",
    "    'mole-fraction-of-carbon-dioxide-in-air_input4MIPs_GHGConcentrations_ScenarioMIP_UoM-IMAGE-ssp126-1-2-1_gr1-GMNHSH_2015-2500.nc',\n",
    "    'mole-fraction-of-carbon-dioxide-in-air_input4MIPs_GHGConcentrations_ScenarioMIP_UoM-MESSAGE-GLOBIOM-ssp245-1-2-1_gr1-GMNHSH_2015-2500.nc',\n",
    "    'mole-fraction-of-carbon-dioxide-in-air_input4MIPs_GHGConcentrations_ScenarioMIP_UoM-REMIND-MAGPIE-ssp585-1-2-1_gr1-GMNHSH_2015-2500.nc']"
   ]
  },
  {
   "cell_type": "code",
   "execution_count": 203,
   "id": "1036df77-45af-4124-809d-86188bc9098c",
   "metadata": {},
   "outputs": [],
   "source": [
    "ds=nc.Dataset(fn[0])\n",
    "co2hist=ds['mole_fraction_of_carbon_dioxide_in_air'][:][:,0]\n",
    "timehist=ds['time'][:]/365.25\n",
    "ind=timehist>=1850\n",
    "timehist=timehist[ind]\n",
    "co2hist=co2hist[ind]"
   ]
  },
  {
   "cell_type": "code",
   "execution_count": 208,
   "id": "a9a90ac3-3ad8-4d36-a5f1-7dc53ccf4c00",
   "metadata": {},
   "outputs": [],
   "source": [
    "ds=nc.Dataset(fn[1])\n",
    "co2ssp126=ds['mole_fraction_of_carbon_dioxide_in_air'][:][:,0]\n",
    "timessp126=ds['time'][:]/365+1850\n",
    "ind=timessp126<2250"
   ]
  },
  {
   "cell_type": "code",
   "execution_count": 209,
   "id": "1bbb0cc4-bfbc-489e-b107-6fec975b5e1e",
   "metadata": {},
   "outputs": [],
   "source": [
    "ds=nc.Dataset(fn[2])\n",
    "co2ssp245=ds['mole_fraction_of_carbon_dioxide_in_air'][:][:,0]\n",
    "timessp245=ds['time'][:]/365+1850"
   ]
  },
  {
   "cell_type": "code",
   "execution_count": 210,
   "id": "5b20d61f-9704-45d7-ae93-78c5473e3690",
   "metadata": {},
   "outputs": [],
   "source": [
    "ds=nc.Dataset(fn[3])\n",
    "co2ssp585=ds['mole_fraction_of_carbon_dioxide_in_air'][:][:,0]\n",
    "timessp585=ds['time'][:]/365+1850"
   ]
  },
  {
   "cell_type": "code",
   "execution_count": 234,
   "id": "ff01a5cb-f01c-42d3-b47d-4b6b26a23ca8",
   "metadata": {},
   "outputs": [],
   "source": [
    "N0=np.size(timehist)\n",
    "N1=np.size(timessp126)\n",
    "N2=np.size(timessp245)\n",
    "N3=np.size(timessp585)\n",
    "# time\n",
    "time=np.arange('1850-01','2250-12',dtype='datetime64[Y]')\n",
    "# pco2\n",
    "pco2=np.empty((3,400))\n",
    "pco2[0,:]=np.concatenate((co2hist,co2ssp126[ind]))\n",
    "pco2[1,:]=np.concatenate((co2hist,co2ssp245[ind]))\n",
    "pco2[2,:]=np.concatenate((co2hist,co2ssp585[ind]))"
   ]
  },
  {
   "cell_type": "code",
   "execution_count": 235,
   "id": "e9fa418a-26be-4582-9d3f-9e864f852138",
   "metadata": {},
   "outputs": [],
   "source": [
    "da=xr.DataArray(data=pco2,name='pco2atm',dims=['scenario','time'],\n",
    "                coords={'time':time,'scenario':['Hssp126','Hssp245','Hssp585']})\n",
    "ds=da.to_dataset()\n",
    "ds.to_netcdf('co2-mole-frac-Hssp.nc')"
   ]
  },
  {
   "cell_type": "code",
   "execution_count": 262,
   "id": "c5ff4b69-edfc-4ea5-a3d8-a99ac9ba26b5",
   "metadata": {},
   "outputs": [
    {
     "data": {
      "text/plain": [
       "Text(0, 0.5, 'mole-fraction co2, ppm')"
      ]
     },
     "execution_count": 262,
     "metadata": {},
     "output_type": "execute_result"
    },
    {
     "data": {
      "image/png": "[encoded data removed]",
      "text/plain": [
       "<Figure size 432x288 with 1 Axes>"
      ]
     },
     "metadata": {
      "needs_background": "light"
     },
     "output_type": "display_data"
    }
   ],
   "source": [
    "import matplotlib\n",
    "matplotlib.rc('xtick', labelsize=13) \n",
    "matplotlib.rc('ytick', labelsize=13) \n",
    "ds.pco2atm.plot.line(x='time')\n",
    "plt.xlabel('time',fontsize=15)\n",
    "plt.ylabel('mole-fraction co2, ppm',fontsize=15)"
   ]
  },
  {
   "cell_type": "code",
   "execution_count": null,
   "id": "9208db1e-b0f3-4453-87b3-0a53eba86444",
   "metadata": {},
   "outputs": [],
   "source": []
  }
 ],
 "metadata": {
  "kernelspec": {
   "display_name": "Calc0",
   "language": "python",
   "name": "calc0"
  },
  "language_info": {
   "codemirror_mode": {
    "name": "ipython",
    "version": 3
   },
   "file_extension": ".py",
   "mimetype": "text/x-python",
   "name": "python",
   "nbconvert_exporter": "python",
   "pygments_lexer": "ipython3",
   "version": "3.9.10"
  }
 },
 "nbformat": 4,
 "nbformat_minor": 5
}
