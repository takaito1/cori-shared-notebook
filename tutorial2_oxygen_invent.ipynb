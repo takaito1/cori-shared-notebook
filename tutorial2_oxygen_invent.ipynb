{
 "cells": [
  {
   "cell_type": "markdown",
   "id": "1a3f4c17-c044-42f6-97b1-7f1a12dd05a7",
   "metadata": {},
   "source": [
    "# Comparing the climatology against observation\n",
    "#### Important: This needs to run with the \"calc\" python environment\n",
    "- First import libraries"
   ]
  },
  {
   "cell_type": "code",
   "execution_count": null,
   "id": "57604562-c535-4d01-a058-d5596c23190b",
   "metadata": {},
   "outputs": [],
   "source": [
    "import numpy as np\n",
    "import netCDF4\n",
    "import xarray as xr\n",
    "import matplotlib.pyplot as plt"
   ]
  },
  {
   "cell_type": "markdown",
   "id": "eaa74c6a-1d81-40e4-86b1-3aad0c249f6d",
   "metadata": {},
   "source": [
    "- Next, we need to read in the data. Let's pick dissolved oxygen (o2) from GFDL-ESM4\n",
    "- World Ocean Atlas for observation"
   ]
  },
  {
   "cell_type": "code",
   "execution_count": null,
   "id": "370c84df-ba4c-483e-a23c-2cde1aa2eea5",
   "metadata": {},
   "outputs": [],
   "source": [
    "! ls /global/cfs/cdirs/m3920/dataset/cmip6/GFDL-ESM4/o2*.nc > gfdlo2.txt\n",
    "! cat gfdlo2.txt\n",
    "! ls /global/cfs/cdirs/m3920/dataset/ocean/woa09/dissolved_oxy*annual*.nc > woao2.txt\n",
    "! cat woao2.txt"
   ]
  },
  {
   "cell_type": "markdown",
   "id": "de91d3e2-31dc-4731-a8a7-16e0ffa68019",
   "metadata": {},
   "source": [
    "- First read in the text file that contains the name of the file\n",
    "- Use it to drive xarray.open_dataset\n",
    "- See the graphic interface to explore metadata and attributes"
   ]
  },
  {
   "cell_type": "code",
   "execution_count": null,
   "id": "b4b4cc8c-2046-4896-aa39-0b5dc27f6eb3",
   "metadata": {},
   "outputs": [],
   "source": [
    "fid=open('gfdlo2.txt','r')\n",
    "fn=fid.read().splitlines()\n",
    "ds=xr.open_dataset(fn[0])\n",
    "ds=ds.rename({'lev': 'depth',})\n",
    "ds"
   ]
  },
  {
   "cell_type": "code",
   "execution_count": null,
   "id": "75883e8e-f43b-460d-84cc-4a0c58e21d3c",
   "metadata": {},
   "outputs": [],
   "source": [
    "fid=open('woao2.txt','r')\n",
    "fn=fid.read().splitlines()\n",
    "dsobs=xr.open_dataset(fn[0],decode_times=False)\n",
    "dsobs"
   ]
  },
  {
   "cell_type": "markdown",
   "id": "d6204fc6-79c3-4775-adca-a022141f24c4",
   "metadata": {},
   "source": [
    "- Calculate the annual mean climatology from 1950 to 2010\n",
    "- To do so, we first select the correct time period and then apply .mean"
   ]
  },
  {
   "cell_type": "code",
   "execution_count": null,
   "id": "9cb2dd87-04e5-48d8-97a0-d23cfbf07f24",
   "metadata": {},
   "outputs": [],
   "source": [
    "# put them on the same units\n",
    "# model\n",
    "unitconv0=1.0e6/1025. # from mol/m3 to umol/kg\n",
    "o2_model = ds.o2.sel(time=slice(\"1950-01-01\",\"2010-12-31\")).mean(dim='time')*unitconv0\n",
    "# obs\n",
    "unitconv1=43.570      # from ml/l   to umol/kg\n",
    "o2_obs = dsobs.o_an.isel(time=0)*unitconv1"
   ]
  },
  {
   "cell_type": "markdown",
   "id": "3270483c-8aa4-47ac-85b0-309e6b8b4354",
   "metadata": {},
   "source": [
    "- Calculate and plot the model-obs difference at a constant depth (100, 200, 400, 700m)"
   ]
  },
  {
   "cell_type": "code",
   "execution_count": null,
   "id": "48796690-4004-4675-9249-e7efe8146f13",
   "metadata": {},
   "outputs": [],
   "source": [
    "# calculate the difference\n",
    "o2_diff=o2_model - o2_obs\n",
    "# colorbar options\n",
    "colorbar_kwargs = {\n",
    "    \"orientation\": \"vertical\",\n",
    "    \"label\": \"annual O2 bias from WOA 2009, micro-molO2/kg\",\n",
    "    \"pad\": 0.07,}\n",
    "# plot 4 levels\n",
    "o2_diff.sel(depth=[100, 200, 400, 700]).plot(col='depth',col_wrap=2,robust=True, \n",
    "                                             figsize=(7,5), cbar_kwargs=colorbar_kwargs)\n",
    "#plt.savefig('o2bias_4panels.pdf',bbox_inches=\"tight\")"
   ]
  },
  {
   "cell_type": "markdown",
   "id": "38ad88e7-66a5-46a9-b91a-93bbb31bb8d2",
   "metadata": {},
   "source": [
    "- Next, we calculate the 0-700m vertically integrated O2. \n",
    "- Then make one plot that compares model and observation"
   ]
  },
  {
   "cell_type": "code",
   "execution_count": null,
   "id": "82105209-6275-4d15-ab6c-58c34046c01d",
   "metadata": {},
   "outputs": [],
   "source": [
    "# first calculate cell area for 1x1 grid\n",
    "X,Y=np.meshgrid(ds.lon,ds.lat)\n",
    "r=6.37e6\n",
    "areacell=(r*np.deg2rad(1.0))**2*np.cos(np.deg2rad(Y))"
   ]
  },
  {
   "cell_type": "code",
   "execution_count": null,
   "id": "a4b12a57-50c0-468e-bb06-9408e1bfebf6",
   "metadata": {},
   "outputs": [],
   "source": [
    "# next calculate the vertical cell thickness \n",
    "z0=ds[\"depth\"]\n",
    "dZ=np.ediff1d(z0,to_begin=5)\n",
    "# then volume element\n",
    "volcell=np.empty((33,180,360))\n",
    "for k in range(0,33):\n",
    "    volcell[k,:,:]=areacell*dZ[k]\n",
    "weight=xr.DataArray(data=volcell,dims=['depth','lat','lon'])"
   ]
  },
  {
   "cell_type": "code",
   "execution_count": null,
   "id": "02a44c83-63c1-4d72-9b8d-85f66fb612cb",
   "metadata": {},
   "outputs": [],
   "source": [
    "# apply weights\n",
    "K=(ds.depth>700)\n",
    "weight[K,:,:]=0\n",
    "# model\n",
    "o2_model_weighted=o2_model.weighted(weight)\n",
    "o2_model_col = o2_model_weighted.mean(dim='depth')\n",
    "# obs\n",
    "o2_obs_weighted=o2_obs.weighted(weight)\n",
    "o2_obs_col = o2_obs_weighted.mean(dim='depth')"
   ]
  },
  {
   "cell_type": "markdown",
   "id": "c863af4a-511a-45ff-a4d4-8050d1569313",
   "metadata": {},
   "source": [
    "- Let's plot model - obs"
   ]
  },
  {
   "cell_type": "code",
   "execution_count": null,
   "id": "1a3eeeea-0f96-4c0a-a389-4b63cbec5cbd",
   "metadata": {},
   "outputs": [],
   "source": [
    "o2_diff_col = o2_model_col - o2_obs_col\n",
    "o2_diff_col.plot(robust=True, cbar_kwargs=colorbar_kwargs)\n",
    "plt.title('0-700m mean O2: model - obs')"
   ]
  },
  {
   "cell_type": "markdown",
   "id": "f08970bf-fe49-4a2b-b6c2-651dce70292a",
   "metadata": {},
   "source": [
    "- Let's calculate vertical profiles (global)"
   ]
  },
  {
   "cell_type": "code",
   "execution_count": null,
   "id": "920684a3-0b00-4ed7-b88a-ef2ce0895350",
   "metadata": {},
   "outputs": [],
   "source": [
    "# model\n",
    "o2_model_weighted=o2_model.weighted(weight)\n",
    "o2_model_prf = o2_model_weighted.mean(dim=['lat','lon'])\n",
    "# obs\n",
    "o2_obs_weighted=o2_obs.weighted(weight)\n",
    "o2_obs_prf = o2_obs_weighted.mean(dim=['lat','lon'])"
   ]
  },
  {
   "cell_type": "code",
   "execution_count": null,
   "id": "2f9a91df-60be-4471-b490-00a0d6b6e240",
   "metadata": {},
   "outputs": [],
   "source": [
    "plt.plot(o2_model_prf,ds.depth,label='model')\n",
    "plt.plot(o2_obs_prf,ds.depth,label='woa 2009')\n",
    "plt.legend()\n",
    "plt.ylim(700,0)\n",
    "plt.ylabel('depth')\n",
    "plt.xlabel('O2 conc, micro-molO2/kg')\n",
    "plt.title('global mean O2 profile: model - obs')"
   ]
  }
 ],
 "metadata": {
  "kernelspec": {
   "display_name": "Calc",
   "language": "python",
   "name": "calc"
  },
  "language_info": {
   "codemirror_mode": {
    "name": "ipython",
    "version": 3
   },
   "file_extension": ".py",
   "mimetype": "text/x-python",
   "name": "python",
   "nbconvert_exporter": "python",
   "pygments_lexer": "ipython3",
   "version": "3.8.12"
  }
 },
 "nbformat": 4,
 "nbformat_minor": 5
}
